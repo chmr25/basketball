{
 "cells": [
  {
   "cell_type": "code",
   "execution_count": 1,
   "metadata": {},
   "outputs": [],
   "source": [
    "from urllib.request import Request, urlopen\n",
    "import re, os, requests, codecs"
   ]
  },
  {
   "cell_type": "code",
   "execution_count": 2,
   "metadata": {},
   "outputs": [],
   "source": [
    "def code_of_site(url):\n",
    "    source_code = open(\"prefixio_page.txt\", \"w\")\n",
    "    hdr = {\n",
    "        \"user-agent\": \"Mozilla/5.0 \"\n",
    "        \"(Linux; Android 6.0; \"\n",
    "        \"Nexus 5 Build/MRA58N) \"\n",
    "        \"AppleWebKit/537.36 (KHTML, like Gecko)\"\n",
    "        \" Chrome/92.0.4515.107 Mobile Safari/537.36\"\n",
    "    }\n",
    "    source_code.write(str(urlopen(Request(url, headers=hdr)).read()))\n",
    "\n",
    "def find_games(filename):\n",
    "    with open(filename, \"r\") as file:\n",
    "        html_code = file.read()\n",
    "    outcome = re.findall(\n",
    "        r\"Match: [0-9][0-9][0-9][0-9][0-9][0-9][0-9][0-9]</div>\", str(html_code)\n",
    "    )\n",
    "    game_codes = [x.replace(\"Match: \", \"\").replace(\"</div>\", \"\") for x in outcome]\n",
    "    return game_codes\n",
    "\n",
    "def get_protocols(match):\n",
    "    url = \"https://www.profixio.com/app/leagueid13825/match/\"\n",
    "    protocol = \"/protocol/pdf\"\n",
    "    response = requests.get(url + match + protocol)\n",
    "    path = f\"protocols/{match}.pdf\"\n",
    "    return response.content\n",
    "\n",
    "def check_if_protocols_exist(protocols):\n",
    "    path = os.path.abspath(os.getcwd())\n",
    "    folder = '/protocols/'\n",
    "    missing = [x for x in protocols if not os.path.exists(path + folder + x + '.pdf')]\n",
    "    return missing"
   ]
  },
  {
   "cell_type": "code",
   "execution_count": 3,
   "metadata": {},
   "outputs": [],
   "source": [
    "def fetch_protocol():\n",
    "    url = (\n",
    "        \"https://www.profixio.com/app/leagueid13825/category/1128802?segment=historikk\"\n",
    "    )\n",
    "    code_of_site(url)\n",
    "    list_of_games = find_games(\"prefixio_page.txt\")\n",
    "    games = check_if_protocols_exist(list_of_games)\n",
    "    return get_protocols(match=games[0])"
   ]
  },
  {
   "cell_type": "code",
   "execution_count": 6,
   "metadata": {},
   "outputs": [
    {
     "data": {
      "text/plain": [
       "bytes"
      ]
     },
     "execution_count": 6,
     "metadata": {},
     "output_type": "execute_result"
    }
   ],
   "source": [
    "result = fetch_protocol()\n",
    "type(result)"
   ]
  },
  {
   "cell_type": "code",
   "execution_count": 1,
   "metadata": {},
   "outputs": [
    {
     "ename": "NameError",
     "evalue": "name 'result' is not defined",
     "output_type": "error",
     "traceback": [
      "\u001b[0;31m---------------------------------------------------------------------------\u001b[0m",
      "\u001b[0;31mNameError\u001b[0m                                 Traceback (most recent call last)",
      "Cell \u001b[0;32mIn[1], line 2\u001b[0m\n\u001b[1;32m      1\u001b[0m \u001b[39mwith\u001b[39;00m \u001b[39mopen\u001b[39m(\u001b[39m'\u001b[39m\u001b[39mfile.pdf\u001b[39m\u001b[39m'\u001b[39m, \u001b[39m'\u001b[39m\u001b[39mwb\u001b[39m\u001b[39m'\u001b[39m) \u001b[39mas\u001b[39;00m f:\n\u001b[0;32m----> 2\u001b[0m   f\u001b[39m.\u001b[39mwrite(result)\n",
      "\u001b[0;31mNameError\u001b[0m: name 'result' is not defined"
     ]
    }
   ],
   "source": [
    "with open('file.pdf', 'wb') as f:\n",
    "  f.write(result)\n"
   ]
  },
  {
   "cell_type": "code",
   "execution_count": 5,
   "metadata": {},
   "outputs": [],
   "source": [
    "import psycopg2\n",
    "host='christos-N501VW'\n",
    "user='basketball'\n",
    "passw='adrian'\n",
    "db='postgres'\n",
    "\n",
    "conn = psycopg2.connect(host=host, dbname=db, user=user, password=passw)\n"
   ]
  }
 ],
 "metadata": {
  "kernelspec": {
   "display_name": ".venv",
   "language": "python",
   "name": "python3"
  },
  "language_info": {
   "codemirror_mode": {
    "name": "ipython",
    "version": 3
   },
   "file_extension": ".py",
   "mimetype": "text/x-python",
   "name": "python",
   "nbconvert_exporter": "python",
   "pygments_lexer": "ipython3",
   "version": "3.10.9"
  },
  "orig_nbformat": 4,
  "vscode": {
   "interpreter": {
    "hash": "dc8c40e198ce41850027edfb8f0579beab765cf4ede656f46ebc5c0f7ecbe448"
   }
  }
 },
 "nbformat": 4,
 "nbformat_minor": 2
}

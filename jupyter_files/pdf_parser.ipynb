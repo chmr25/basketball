{
 "cells": [
  {
   "cell_type": "code",
   "execution_count": 33,
   "metadata": {},
   "outputs": [],
   "source": [
    "import fitz\n",
    "import pandas as pd\n",
    "from datetime import datetime"
   ]
  },
  {
   "cell_type": "code",
   "execution_count": 31,
   "metadata": {},
   "outputs": [],
   "source": [
    "doc = fitz.open('/Users/christosmarinos/protocols/31325224.pdf')\n",
    "words = doc[0].get_text(\"words\")\n",
    "actual_words = []\n",
    "for i in words:\n",
    "    actual_words.append(i[4])"
   ]
  },
  {
   "cell_type": "code",
   "execution_count": 4,
   "metadata": {},
   "outputs": [],
   "source": [
    "def hemmalag_words(words):\n",
    "    start = None\n",
    "    stop = None\n",
    "    count_bortalag = 0\n",
    "    for index, word in enumerate(words):\n",
    "        if  word == \"OT:\":\n",
    "            start = index+2 \n",
    "        if word == \"Bortalag:\":\n",
    "            count_bortalag += 1\n",
    "            stop = index\n",
    "            if count_bortalag == 2:\n",
    "                break\n",
    "    hem = words[start:stop]\n",
    "    return hem\n",
    "\n",
    "def bortalag_words(words):\n",
    "    start = None\n",
    "    stop = None\n",
    "    for index, word in enumerate(words):\n",
    "        if  word == \"OT:\":\n",
    "            start = index+2 \n",
    "        if word == \"Actions\":\n",
    "            stop = index\n",
    "            break\n",
    "    bort = words[start:stop]\n",
    "    return bort\n",
    "\n",
    "def get_first_row(lag):\n",
    "    lag = lag[5:]\n",
    "    points = None\n",
    "    for index,value in enumerate(lag):\n",
    "        if value.isnumeric() and lag[index+2].isnumeric():\n",
    "            points = index\n",
    "            first_row = {\n",
    "                \"player_name\": \" \".join(lag[1:index]),\n",
    "                \"points\": lag[index],\n",
    "                \"fouls\": lag[index+1]\n",
    "            }\n",
    "            break\n",
    "    return first_row\n",
    "\n",
    "def clear_players_table(t_team):\n",
    "    indexes = []\n",
    "    player_rows = [get_first_row(t_team)]\n",
    "    for index, value in enumerate(t_team):\n",
    "        if value.isnumeric() and index+2<len(t_team) and t_team[index+2].isnumeric() and t_team[index+2] != 'C':\n",
    "            indexes.append(index+3)\n",
    "    for i,d in enumerate(indexes):\n",
    "        player_rows.append(\n",
    "            {\n",
    "                \"player_name\": \" \".join(t_team[d:indexes[i+1]-3]) if i+1<len(indexes) else \" \".join(t_team[d:d+2]),\n",
    "                \"points\": t_team[indexes[i+1]-3] if i+1<len(indexes) else t_team[d+2],\n",
    "                \"fouls\": t_team[indexes[i+1]-2] if i+1<len(indexes) else t_team[d+3]\n",
    "            }\n",
    "        )\n",
    "    return player_rows\n",
    "\n",
    "def csv_lag(lag):    \n",
    "    rows = []\n",
    "    ny_lag = [x for x in lag if x not in ['X', 'Ø']]\n",
    "    player_stats = clear_players_table(ny_lag)\n",
    "    lag_df = pd.DataFrame(player_stats)\n",
    "    return lag_df\n",
    "\n",
    "def get_period_data(words: list, period: int):\n",
    "    start = None\n",
    "    stop = None\n",
    "    for index, word in enumerate(words):\n",
    "        if  word == \"Start\" and words[index+2]== str(period):\n",
    "            start = index+3\n",
    "        if period != 4:\n",
    "            if word == \"Start\" and words[index+2]== str(period+1):\n",
    "                stop = index\n",
    "                break\n",
    "        else:\n",
    "            if word == \"Scores\":\n",
    "                stop = index\n",
    "                break            \n",
    "    period_data = words[start:stop]\n",
    "    return period_data\n",
    "\n",
    "\n",
    "\n",
    "def clean_period_data(actual_words: list):\n",
    "    period_data = []\n",
    "    timeouts = []\n",
    "    for period in range(1,5):\n",
    "        period_data += get_period_data(words=actual_words, period=period)\n",
    "    timeouts = [index-2 for index,element in enumerate(period_data) if element == 'timeout']\n",
    "    count=0\n",
    "    for i in range(len(timeouts)):\n",
    "        period_data.insert(timeouts[i]+count, \"timeout!\")\n",
    "        count += 1\n",
    "    period_rows = []\n",
    "    for i in range(0,len(period_data),7):\n",
    "        period_rows.append(\n",
    "            {\n",
    "                \"score\": period_data[i]+period_data[i+1]+period_data[i+2],\n",
    "                \"player\": period_data[i+3],\n",
    "                \"team\":  period_data[i+4] + '' + period_data[i+5],\n",
    "                \"basket_count\": period_data[i+6]\n",
    "            }\n",
    "        )\n",
    "    return pd.DataFrame(period_rows)\n"
   ]
  },
  {
   "cell_type": "code",
   "execution_count": 5,
   "metadata": {},
   "outputs": [
    {
     "data": {
      "text/plain": [
       "['Seniorserier',\n",
       " 'Herr',\n",
       " '-',\n",
       " 'Herrar',\n",
       " 'Division',\n",
       " '3',\n",
       " 'Powered',\n",
       " 'by',\n",
       " 'TCPDF',\n",
       " '(www.tcpdf.org)',\n",
       " 'Printed',\n",
       " '23.03.23',\n",
       " '23:10',\n",
       " 'Page',\n",
       " '2/2',\n",
       " 'Powered',\n",
       " 'by',\n",
       " 'Profixio',\n",
       " 'TX']"
      ]
     },
     "execution_count": 5,
     "metadata": {},
     "output_type": "execute_result"
    }
   ],
   "source": []
  },
  {
   "cell_type": "code",
   "execution_count": 5,
   "metadata": {},
   "outputs": [],
   "source": [
    "def get_team_names(words):\n",
    "    for index, word in enumerate(words):\n",
    "        if word == 'Hemmalag:':\n",
    "            start_hem = index+1\n",
    "        elif word == 'Bortalag:':\n",
    "            stop_hem = index\n",
    "            start_bort = index+1\n",
    "        elif word == 'Competition:':\n",
    "            stop_bort = index\n",
    "            break\n",
    "    return {\"hem\": ' '.join(str(w) for w in words[start_hem:stop_hem]),\n",
    "            \"bort\": ' '.join(str(w) for w in words[start_bort:stop_bort])}"
   ]
  },
  {
   "cell_type": "code",
   "execution_count": 7,
   "metadata": {},
   "outputs": [
    {
     "ename": "UnboundLocalError",
     "evalue": "local variable 'start_hem' referenced before assignment",
     "output_type": "error",
     "traceback": [
      "\u001b[0;31m---------------------------------------------------------------------------\u001b[0m",
      "\u001b[0;31mUnboundLocalError\u001b[0m                         Traceback (most recent call last)",
      "Cell \u001b[0;32mIn[7], line 1\u001b[0m\n\u001b[0;32m----> 1\u001b[0m get_team_names(actual_words)\n",
      "Cell \u001b[0;32mIn[6], line 11\u001b[0m, in \u001b[0;36mget_team_names\u001b[0;34m(words)\u001b[0m\n\u001b[1;32m      9\u001b[0m         stop_bort \u001b[39m=\u001b[39m index\n\u001b[1;32m     10\u001b[0m         \u001b[39mbreak\u001b[39;00m\n\u001b[0;32m---> 11\u001b[0m \u001b[39mreturn\u001b[39;00m {\u001b[39m\"\u001b[39m\u001b[39mhem\u001b[39m\u001b[39m\"\u001b[39m: \u001b[39m'\u001b[39m\u001b[39m \u001b[39m\u001b[39m'\u001b[39m\u001b[39m.\u001b[39mjoin(\u001b[39mstr\u001b[39m(w) \u001b[39mfor\u001b[39;00m w \u001b[39min\u001b[39;00m words[start_hem:stop_hem]),\n\u001b[1;32m     12\u001b[0m         \u001b[39m\"\u001b[39m\u001b[39mbort\u001b[39m\u001b[39m\"\u001b[39m: \u001b[39m'\u001b[39m\u001b[39m \u001b[39m\u001b[39m'\u001b[39m\u001b[39m.\u001b[39mjoin(\u001b[39mstr\u001b[39m(w) \u001b[39mfor\u001b[39;00m w \u001b[39min\u001b[39;00m words[start_bort:stop_bort])}\n",
      "\u001b[0;31mUnboundLocalError\u001b[0m: local variable 'start_hem' referenced before assignment"
     ]
    }
   ],
   "source": [
    "get_team_names(actual_words)"
   ]
  },
  {
   "cell_type": "code",
   "execution_count": 36,
   "metadata": {},
   "outputs": [],
   "source": [
    "def get_game_timestamp(words):\n",
    "    format = \"%Y-%m-%d %H:%M\"\n",
    "    for index,word in enumerate(words):\n",
    "        if word == 'Date' and words[index+1] == '&' and words[index+2]=='time:':\n",
    "            date_time = words[index+3] + ' ' + words[index+4]\n",
    "    return datetime.strptime(date_time, format)\n",
    "            "
   ]
  },
  {
   "cell_type": "code",
   "execution_count": 37,
   "metadata": {},
   "outputs": [
    {
     "data": {
      "text/plain": [
       "datetime.datetime(2023, 1, 27, 20, 0)"
      ]
     },
     "execution_count": 37,
     "metadata": {},
     "output_type": "execute_result"
    }
   ],
   "source": [
    "get_game_timestamp(actual_words)"
   ]
  },
  {
   "cell_type": "code",
   "execution_count": 13,
   "metadata": {},
   "outputs": [
    {
     "name": "stdout",
     "output_type": "stream",
     "text": [
      "start is None and stop is None \n"
     ]
    },
    {
     "ename": "IndexError",
     "evalue": "list index out of range",
     "output_type": "error",
     "traceback": [
      "\u001b[0;31m---------------------------------------------------------------------------\u001b[0m",
      "\u001b[0;31mIndexError\u001b[0m                                Traceback (most recent call last)",
      "Cell \u001b[0;32mIn[13], line 51\u001b[0m\n\u001b[1;32m     44\u001b[0m period_rows \u001b[39m=\u001b[39m []\n\u001b[1;32m     45\u001b[0m \u001b[39mfor\u001b[39;00m i \u001b[39min\u001b[39;00m \u001b[39mrange\u001b[39m(\u001b[39m0\u001b[39m,\u001b[39mlen\u001b[39m(game_data),\u001b[39m7\u001b[39m):\n\u001b[1;32m     46\u001b[0m     period_rows\u001b[39m.\u001b[39mappend(\n\u001b[1;32m     47\u001b[0m         {\n\u001b[1;32m     48\u001b[0m             \u001b[39m\"\u001b[39m\u001b[39mscore\u001b[39m\u001b[39m\"\u001b[39m: game_data[i] \u001b[39m+\u001b[39m game_data[i\u001b[39m+\u001b[39m\u001b[39m1\u001b[39m] \u001b[39m+\u001b[39m game_data[i\u001b[39m+\u001b[39m\u001b[39m2\u001b[39m],\n\u001b[1;32m     49\u001b[0m             \u001b[39m\"\u001b[39m\u001b[39mplayer\u001b[39m\u001b[39m\"\u001b[39m: game_data[i\u001b[39m+\u001b[39m\u001b[39m3\u001b[39m],\n\u001b[1;32m     50\u001b[0m             \u001b[39m\"\u001b[39m\u001b[39mteam\u001b[39m\u001b[39m\"\u001b[39m:  game_data[i\u001b[39m+\u001b[39m\u001b[39m4\u001b[39m] \u001b[39m+\u001b[39m \u001b[39m'\u001b[39m\u001b[39m'\u001b[39m \u001b[39m+\u001b[39m game_data[i\u001b[39m+\u001b[39m\u001b[39m5\u001b[39m],\n\u001b[0;32m---> 51\u001b[0m             \u001b[39m\"\u001b[39m\u001b[39mbasket_count\u001b[39m\u001b[39m\"\u001b[39m: game_data[i\u001b[39m+\u001b[39;49m\u001b[39m6\u001b[39;49m]\n\u001b[1;32m     52\u001b[0m         }\n\u001b[1;32m     53\u001b[0m     )\n\u001b[1;32m     54\u001b[0m pd\u001b[39m.\u001b[39mDataFrame(period_rows)\n",
      "\u001b[0;31mIndexError\u001b[0m: list index out of range"
     ]
    }
   ],
   "source": [
    "def get_ot_data(words: list):\n",
    "    start = None\n",
    "    stop = None\n",
    "    ot_data = []\n",
    "    ot = 0\n",
    "    for index, word in enumerate(words):\n",
    "        if  word == \"Start\" and words[index+1] == 'OT':\n",
    "            start = index+3\n",
    "            print(\"This is the start\")\n",
    "            print(start)\n",
    "            ot += 1\n",
    "        if word == \"Start\" and words[index+1] == 'OT' and words[index+2]== str(ot+1):\n",
    "                stop = index\n",
    "                break\n",
    "        else:\n",
    "            if word == \"Scores\":\n",
    "                stop = index\n",
    "                break\n",
    "    print(f\"start is {start} and stop is {stop} \")\n",
    "    if start and stop:\n",
    "        print(\"woohoo\")\n",
    "        ot_data = words[start:stop]\n",
    "    return ot_data\n",
    "\n",
    "def contains(larger, smaller):\n",
    "    larger_iter = iter(larger)\n",
    "    return all(s in larger_iter for s in smaller)\n",
    "\n",
    "period_data = []\n",
    "ot_data = []\n",
    "timeouts = []\n",
    "empty = ['Final', 'score', '0', '-', '0',]\n",
    "if contains(actual_words, empty):\n",
    "    print(\"gotcha!\")\n",
    "for period in range(1,5):\n",
    "    period_data += get_period_data(words=actual_words, period=period)\n",
    "ot_data = get_ot_data(words=actual_words)\n",
    "game_data = period_data + ot_data\n",
    "timeouts = [index-2 for index,element in enumerate(game_data) if element == 'timeout']\n",
    "count=0\n",
    "for i in range(len(timeouts)):\n",
    "    game_data.insert(timeouts[i]+count, \"timeout!\")\n",
    "    count += 1\n",
    "period_rows = []\n",
    "for i in range(0,len(game_data),7):\n",
    "    period_rows.append(\n",
    "        {\n",
    "            \"score\": game_data[i] + game_data[i+1] + game_data[i+2],\n",
    "            \"player\": game_data[i+3],\n",
    "            \"team\":  game_data[i+4] + '' + game_data[i+5],\n",
    "            \"basket_count\": game_data[i+6]\n",
    "        }\n",
    "    )\n",
    "pd.DataFrame(period_rows)"
   ]
  },
  {
   "cell_type": "code",
   "execution_count": null,
   "metadata": {},
   "outputs": [],
   "source": [
    "bortalag_csv\n",
    "\n"
   ]
  },
  {
   "cell_type": "code",
   "execution_count": null,
   "metadata": {},
   "outputs": [],
   "source": [
    "match"
   ]
  }
 ],
 "metadata": {
  "kernelspec": {
   "display_name": ".venv",
   "language": "python",
   "name": "python3"
  },
  "language_info": {
   "codemirror_mode": {
    "name": "ipython",
    "version": 3
   },
   "file_extension": ".py",
   "mimetype": "text/x-python",
   "name": "python",
   "nbconvert_exporter": "python",
   "pygments_lexer": "ipython3",
   "version": "3.10.10"
  },
  "orig_nbformat": 4,
  "vscode": {
   "interpreter": {
    "hash": "dc8c40e198ce41850027edfb8f0579beab765cf4ede656f46ebc5c0f7ecbe448"
   }
  }
 },
 "nbformat": 4,
 "nbformat_minor": 2
}
